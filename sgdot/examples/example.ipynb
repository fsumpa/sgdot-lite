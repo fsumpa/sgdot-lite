{
 "cells": [
  {
   "cell_type": "markdown",
   "metadata": {},
   "source": [
    "### Import modules"
   ]
  },
  {
   "cell_type": "code",
   "execution_count": null,
   "metadata": {},
   "outputs": [],
   "source": [
    "import sys\n",
    "sys.path.append('../')\n",
    "\n",
    "import tools.visualization as visu\n",
    "import tools.io as io\n",
    "import tools.optimization as opt\n",
    "from grids import *\n",
    "\n",
    "import matplotlib.image as mpimg\n",
    "import matplotlib.pyplot as plt\n",
    "%matplotlib inline\n",
    "\n",
    "%load_ext autoreload\n",
    "%autoreload"
   ]
  },
  {
   "cell_type": "markdown",
   "metadata": {},
   "source": [
    "### Initialize grid\n",
    "\n",
    "The following cell creates an empty grid.\n",
    "\n",
    "The default id and grid image are sepcified in the 'village_image_path' from the 'files' section in the examples/config_grid.cfg file.\n"
   ]
  },
  {
   "cell_type": "code",
   "execution_count": 1,
   "metadata": {},
   "outputs": [
    {
     "output_type": "error",
     "ename": "NameError",
     "evalue": "name 'Grid' is not defined",
     "traceback": [
      "\u001b[0;31m---------------------------------------------------------------------------\u001b[0m",
      "\u001b[0;31mNameError\u001b[0m                                 Traceback (most recent call last)",
      "\u001b[0;32m<ipython-input-1-34b6a23548f4>\u001b[0m in \u001b[0;36m<module>\u001b[0;34m\u001b[0m\n\u001b[0;32m----> 1\u001b[0;31m \u001b[0mgrid\u001b[0m \u001b[0;34m=\u001b[0m \u001b[0mGrid\u001b[0m\u001b[0;34m(\u001b[0m\u001b[0m_id\u001b[0m\u001b[0;34m=\u001b[0m\u001b[0;34m'example_village'\u001b[0m\u001b[0;34m)\u001b[0m\u001b[0;34m\u001b[0m\u001b[0;34m\u001b[0m\u001b[0m\n\u001b[0m",
      "\u001b[0;31mNameError\u001b[0m: name 'Grid' is not defined"
     ]
    }
   ],
   "source": [
    "grid = Grid(_id='example_village')"
   ]
  },
  {
   "cell_type": "markdown",
   "metadata": {},
   "source": [
    "### Plot grid image"
   ]
  },
  {
   "cell_type": "markdown",
   "metadata": {},
   "source": [
    "A Grid object image can be displayed using the plot_grid function from the tools.visualization module"
   ]
  },
  {
   "cell_type": "code",
   "execution_count": null,
   "metadata": {},
   "outputs": [],
   "source": [
    "visu.plot_grid(grid)"
   ]
  },
  {
   "cell_type": "markdown",
   "metadata": {},
   "source": [
    "### Get Methods\n",
    "In order to get the attributes of a grid, one can use the get methods "
   ]
  },
  {
   "cell_type": "code",
   "execution_count": null,
   "metadata": {},
   "outputs": [],
   "source": [
    "print(grid.get_id())\n",
    "print(grid.get_links())\n",
    "print(grid.get_nodes())"
   ]
  },
  {
   "cell_type": "markdown",
   "metadata": {},
   "source": [
    "### Interactive plot\n",
    "There are embedded methods to add nodes or links to a grid. An easy way of doing it is using the interactive_grid_plot function from the tools.visualization module.\n",
    "The function generates an interactive opencv window with the grid image.\n",
    "\n",
    "A left(right) click on the image adds a household(meterhub) at the selected point.\n",
    "\n",
    "Exit window:\n",
    "    - keep the Esc key pressed for a second.\n",
    "\n",
    "Remove all nodes:\n",
    "    - keep R key pressed for a second\n",
    "\n",
    "\n",
    "\n",
    "Note:\n",
    "Opencv actually opens a seond window containing sliders (that play the role of buttons) that enables quick features like removing the lastly added node to the grid or to swap the state of a random node.\n"
   ]
  },
  {
   "cell_type": "code",
   "execution_count": null,
   "metadata": {},
   "outputs": [],
   "source": [
    "visu.interactive_grid_plot(grid)"
   ]
  },
  {
   "cell_type": "markdown",
   "metadata": {},
   "source": [
    "## Optimization functions"
   ]
  },
  {
   "cell_type": "markdown",
   "metadata": {},
   "source": [
    "Five optimization methods can be used using functions from the tools.optimization module (imported as opt). The optimization methods rely on algorithm parameters that can be given as parameters of the functions. Default parameters can be modified in the config.config_algo.cfg file."
   ]
  },
  {
   "cell_type": "markdown",
   "metadata": {},
   "source": [
    "### Simulated Annealing"
   ]
  },
  {
   "cell_type": "markdown",
   "metadata": {},
   "source": [
    "The opt.sa_optimization() function optimizes the network using a Simulated Annealing algorithm. The algorithm parameters for this function can be obtained using the help(opt.sa_optimization) command."
   ]
  },
  {
   "cell_type": "code",
   "execution_count": null,
   "metadata": {
    "scrolled": true
   },
   "outputs": [],
   "source": [
    "help(opt.sa_optimization)"
   ]
  },
  {
   "cell_type": "markdown",
   "metadata": {},
   "source": [
    "The main algoritm parameters are omega and runtime.\n",
    "Usual values for the omega parameter are within 0 and 0.4. Longer runtimes results in better output prices (for a grid of 50 nodes, 1800 sec is a reasonable runtime)."
   ]
  },
  {
   "cell_type": "code",
   "execution_count": null,
   "metadata": {},
   "outputs": [],
   "source": [
    "opt.sa_optimization(grid=grid, runtime=60)"
   ]
  },
  {
   "cell_type": "markdown",
   "metadata": {},
   "source": [
    "### Genetic Algorithm"
   ]
  },
  {
   "cell_type": "markdown",
   "metadata": {},
   "source": [
    "The opt.ga_optimization() function optimizes the network using a Genetic Algorithm. The algorithm parameters for this function can be obtained using the help(opt.ga_optimization) command."
   ]
  },
  {
   "cell_type": "code",
   "execution_count": null,
   "metadata": {},
   "outputs": [],
   "source": [
    "opt.ga_optimization(grid=grid, runtime=60)"
   ]
  },
  {
   "cell_type": "markdown",
   "metadata": {},
   "source": [
    "### Linear Programming "
   ]
  },
  {
   "cell_type": "markdown",
   "metadata": {},
   "source": [
    "The opt.ga_optimization() function attempts to return the optimal network using a relaxed version of Integer Programming. The output retruned by the algorithm might not be a connected network that does not fullfil the tree-star configuration criterion."
   ]
  },
  {
   "cell_type": "code",
   "execution_count": null,
   "metadata": {
    "scrolled": true
   },
   "outputs": [],
   "source": [
    "opt.lp_optimization(grid=grid)"
   ]
  },
  {
   "cell_type": "markdown",
   "metadata": {},
   "source": [
    "### Network Relaxation"
   ]
  },
  {
   "cell_type": "markdown",
   "metadata": {},
   "source": [
    "The opt.nr_optimization() uses an iterative greedy proccess to return an optimized network. The number of hubs in the grid has to be given as an algorithm parameter."
   ]
  },
  {
   "cell_type": "code",
   "execution_count": null,
   "metadata": {},
   "outputs": [],
   "source": [
    "opt.nr_optimization(grid, number_of_hubs=2, number_of_relaxation_step=15)"
   ]
  },
  {
   "cell_type": "code",
   "execution_count": null,
   "metadata": {},
   "outputs": [],
   "source": []
  }
 ],
 "metadata": {
  "kernelspec": {
   "display_name": "Python 3.7.6 64-bit ('venv')",
   "language": "python",
   "name": "python37664bitvenv007a3c924fea414aacd6378e9b153483"
  },
  "language_info": {
   "codemirror_mode": {
    "name": "ipython",
    "version": 3
   },
   "file_extension": ".py",
   "mimetype": "text/x-python",
   "name": "python",
   "nbconvert_exporter": "python",
   "pygments_lexer": "ipython3",
   "version": "3.7.6"
  }
 },
 "nbformat": 4,
 "nbformat_minor": 2
}